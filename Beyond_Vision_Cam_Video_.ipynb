{
 "cells": [
  {
   "cell_type": "code",
   "execution_count": 1,
   "metadata": {},
   "outputs": [],
   "source": [
    "#Importing all Imp libraries\n",
    "\n",
    "import numpy as np\n",
    "import os\n",
    "import six.moves.urllib as urllib\n",
    "import sys\n",
    "import tarfile\n",
    "import tensorflow as tf\n",
    "import zipfile\n",
    "\n",
    "\n",
    "from collections import defaultdict\n",
    "from io import StringIO\n",
    "import matplotlib.pyplot as plt\n",
    "from PIL import Image\n",
    "\n",
    "from utils import label_map_util\n",
    "from utils import visualization_utils as vis_util"
   ]
  },
  {
   "cell_type": "code",
   "execution_count": 2,
   "metadata": {},
   "outputs": [],
   "source": [
    "%matplotlib inline\n",
    "sys.path.append(\"..\")"
   ]
  },
  {
   "cell_type": "code",
   "execution_count": 3,
   "metadata": {},
   "outputs": [],
   "source": [
    "#Preparation for downloading\n",
    "\n",
    "#Pre-trained COCO model\n",
    "MODEL_NAME='ssd_mobilenet_v1_coco_11_06_2017'\n",
    "MODEL_FILE= MODEL_NAME+'.tar.gz'\n",
    "DOWNLOAD_BASE= 'http://download.tensorflow.org/models/object_detection/'\n",
    "#Where to store it\n",
    "PATH_TO_CKPT=  MODEL_NAME+ './frozen_inference_graph.pb'\n",
    "#Label the path\n",
    "PATH_TO_LABELS=os.path.join('data','mscoco_label_map.txt')\n",
    "#Definind the number of classes \n",
    "NUM_CLASSES=90"
   ]
  },
  {
   "cell_type": "code",
   "execution_count": null,
   "metadata": {},
   "outputs": [
    {
     "name": "stdout",
     "output_type": "stream",
     "text": [
      "COCO Model Already Exists\n"
     ]
    }
   ],
   "source": [
    "#Checking if its already downloaded and if not, then download it\n",
    "if not os.path.exists(PATH_TO_CKPT):\n",
    "    print('Downloading COCO Model...')\n",
    "    opener=urllib.request.URLopener()\n",
    "    opener.retrieve(DOWNLOAD_BASE + MODEL_FILE, MODEL_FILE)\n",
    "    tar_file=tarfile.open(MODEL_FILE)\n",
    "    for file in tar_file.getmembers():\n",
    "        file_name=os.path.basename(file.name)\n",
    "        if 'frozen_inference_graph.pb' in file_name:\n",
    "            tar_file.extract(file,os.getcwd())\n",
    "    print('COCO Model downloaded succesfully')\n",
    "    \n",
    "    \n",
    "#If COCO Model has already been downloaded\n",
    "else:\n",
    "    print('COCO Model Already Exists')\n",
    "    "
   ]
  },
  {
   "cell_type": "code",
   "execution_count": null,
   "metadata": {},
   "outputs": [],
   "source": [
    "#Loading the variables of frozen_inference_graph to use\n",
    "detection_graph=tf.Graph()\n",
    "with detection_graph.as_default():\n",
    "    od_graph_def=tf.GraphDef()\n",
    "    with tf.io.gfile.GFile(PATH_TO_CKPT,'rb') as fid:\n",
    "        serialized_graph= fid.read()\n",
    "        od_graph_def.ParseFromString(serialized_graph)\n",
    "        tf.import_graph_def(od_graph_def,name='')"
   ]
  },
  {
   "cell_type": "code",
   "execution_count": null,
   "metadata": {},
   "outputs": [],
   "source": [
    "#Loading Label Map\n",
    "label_map = label_map_util.load_labelmap(os.path.join('F:\\Beyond Vision\\object_recognition_detection\\data', 'mscoco_label_map.pbtxt'))\n",
    "\n",
    "categories = label_map_util.convert_label_map_to_categories(label_map, max_num_classes=NUM_CLASSES, use_display_name=True)\n",
    "category_index = label_map_util.create_category_index(categories)\n",
    "\n"
   ]
  },
  {
   "cell_type": "code",
   "execution_count": null,
   "metadata": {},
   "outputs": [],
   "source": [
    "#Initialiazing Web cam\n",
    "import cv2\n",
    "cap=cv2.VideoCapture(0)\n",
    "\n",
    "# All variables for object detection and object detection operation\n",
    "mainstr=[]\n",
    "with detection_graph.as_default():\n",
    "    with tf.Session(graph=detection_graph) as sess:\n",
    "        ret=True\n",
    "        while (ret):\n",
    "            ret,image_np=cap.read()\n",
    "        #for image_path in TEST_IMAGE_PATH:\n",
    "            #image=Image.open(image_path)\n",
    "            #image_np= load_image_into_numpy_array(image)\n",
    "            image_np_expanded=np.expand_dims(image_np, axis=0)\n",
    "            image_tensor= detection_graph.get_tensor_by_name('image_tensor:0') # Image\n",
    "            boxes= detection_graph.get_tensor_by_name('detection_boxes:0')\n",
    "            scores= detection_graph.get_tensor_by_name('detection_scores:0') #Match %\n",
    "            classes= detection_graph.get_tensor_by_name('detection_classes:0') #Name of object\n",
    "            num_detections= detection_graph.get_tensor_by_name('num_detections:0') #number of objects detected\n",
    "            \n",
    "            (boxes,scores,classes,num_detections)= sess.run([boxes,scores,classes,num_detections],\n",
    "                                                            feed_dict={image_tensor: image_np_expanded})\n",
    "            \n",
    "            #Visualization\n",
    "            vis_util.visualize_boxes_and_labels_on_image_array(image_np,np.squeeze(boxes),\n",
    "                                                               np.squeeze(classes).astype(np.int32),\n",
    "                                                               np.squeeze(scores),\n",
    "                                                               category_index,\n",
    "                                                               use_normalized_coordinates=True,\n",
    "                                                               line_thickness=8)\n",
    "            #plt.figure(figsize=IMAGE_SIZE)\n",
    "            #plt.imshow(image_np)\n",
    "            #plt.show()\n",
    "            cv2.imshow('image',cv2.resize(image_np,(1280,960)))\n",
    "            \n",
    "            \n",
    "            \n",
    "            final_score = np.squeeze(scores)    \n",
    "            count = 0\n",
    "            for i in range(100):\n",
    "                if scores is None or final_score[i] > 0.5:\n",
    "                    count = count + 1\n",
    "            #print('cpunt',count)\n",
    "            printcount =0;\n",
    "            for i in classes[0]:\n",
    "              printcount = printcount +1\n",
    "              #print(category_index[i]['name'])\n",
    "              mainstr.append(category_index[i]['name'])\n",
    "              \n",
    "              if(printcount == count):\n",
    "                    break\n",
    "            if cv2.waitKey(25) & 0xFF==ord('q'):\n",
    "                cv2.destroyAllWindows()\n",
    "                cap.release()\n",
    "                break"
   ]
  },
  {
   "cell_type": "code",
   "execution_count": null,
   "metadata": {},
   "outputs": [],
   "source": []
  },
  {
   "cell_type": "code",
   "execution_count": null,
   "metadata": {},
   "outputs": [],
   "source": []
  },
  {
   "cell_type": "code",
   "execution_count": null,
   "metadata": {},
   "outputs": [],
   "source": []
  },
  {
   "cell_type": "code",
   "execution_count": null,
   "metadata": {},
   "outputs": [],
   "source": []
  }
 ],
 "metadata": {
  "kernelspec": {
   "display_name": "Python 3",
   "language": "python",
   "name": "python3"
  },
  "language_info": {
   "codemirror_mode": {
    "name": "ipython",
    "version": 3
   },
   "file_extension": ".py",
   "mimetype": "text/x-python",
   "name": "python",
   "nbconvert_exporter": "python",
   "pygments_lexer": "ipython3",
   "version": "3.7.3"
  }
 },
 "nbformat": 4,
 "nbformat_minor": 2
}
